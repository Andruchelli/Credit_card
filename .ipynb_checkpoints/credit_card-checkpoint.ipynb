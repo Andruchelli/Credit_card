{
 "cells": [
  {
   "cell_type": "markdown",
   "id": "3717e7cd",
   "metadata": {},
   "source": [
    "## Постановка задачи\n",
    "\n",
    "1. Предобработать данные из датасета **Credit card** и разделить их на тренировочный и тестовый датасеты.\n",
    "2. Создать простейший классификатор без регуляризации и обучить его на тренировочных данных.\n",
    "3. Создать простейший классификатор с регуляризацией и обучить его на тех же тренировочных данных.\n",
    "4. Сравнить точность двух классификаторов.\n",
    "5. Оценить **precision** и **recall** для каждого из результатов."
   ]
  },
  {
   "cell_type": "code",
   "execution_count": 52,
   "id": "fc7c7d38",
   "metadata": {},
   "outputs": [],
   "source": [
    "import numpy as np # импортируем библиотеку Numpy\n",
    "import pandas as pd # импортируем библиотеку Pandas\n",
    "import matplotlib.pyplot as plt # импортируем библиотеку Matplotlib"
   ]
  },
  {
   "cell_type": "code",
   "execution_count": 10,
   "id": "d3da1850",
   "metadata": {},
   "outputs": [],
   "source": [
    "credit_card_data = pd.read_csv('https://raw.githubusercontent.com/Andruchelli/Credit_card/main/UCI_Credit_Card.csv') # прочитаем файл с данными"
   ]
  },
  {
   "cell_type": "code",
   "execution_count": 11,
   "id": "4f2c177d",
   "metadata": {},
   "outputs": [
    {
     "data": {
      "text/html": [
       "<div>\n",
       "<style scoped>\n",
       "    .dataframe tbody tr th:only-of-type {\n",
       "        vertical-align: middle;\n",
       "    }\n",
       "\n",
       "    .dataframe tbody tr th {\n",
       "        vertical-align: top;\n",
       "    }\n",
       "\n",
       "    .dataframe thead th {\n",
       "        text-align: right;\n",
       "    }\n",
       "</style>\n",
       "<table border=\"1\" class=\"dataframe\">\n",
       "  <thead>\n",
       "    <tr style=\"text-align: right;\">\n",
       "      <th></th>\n",
       "      <th>ID</th>\n",
       "      <th>LIMIT_BAL</th>\n",
       "      <th>SEX</th>\n",
       "      <th>EDUCATION</th>\n",
       "      <th>MARRIAGE</th>\n",
       "      <th>AGE</th>\n",
       "      <th>PAY_0</th>\n",
       "      <th>PAY_2</th>\n",
       "      <th>PAY_3</th>\n",
       "      <th>PAY_4</th>\n",
       "      <th>...</th>\n",
       "      <th>BILL_AMT4</th>\n",
       "      <th>BILL_AMT5</th>\n",
       "      <th>BILL_AMT6</th>\n",
       "      <th>PAY_AMT1</th>\n",
       "      <th>PAY_AMT2</th>\n",
       "      <th>PAY_AMT3</th>\n",
       "      <th>PAY_AMT4</th>\n",
       "      <th>PAY_AMT5</th>\n",
       "      <th>PAY_AMT6</th>\n",
       "      <th>default.payment.next.month</th>\n",
       "    </tr>\n",
       "  </thead>\n",
       "  <tbody>\n",
       "    <tr>\n",
       "      <th>0</th>\n",
       "      <td>1</td>\n",
       "      <td>20000.0</td>\n",
       "      <td>2</td>\n",
       "      <td>2</td>\n",
       "      <td>1</td>\n",
       "      <td>24</td>\n",
       "      <td>2</td>\n",
       "      <td>2</td>\n",
       "      <td>-1</td>\n",
       "      <td>-1</td>\n",
       "      <td>...</td>\n",
       "      <td>0.0</td>\n",
       "      <td>0.0</td>\n",
       "      <td>0.0</td>\n",
       "      <td>0.0</td>\n",
       "      <td>689.0</td>\n",
       "      <td>0.0</td>\n",
       "      <td>0.0</td>\n",
       "      <td>0.0</td>\n",
       "      <td>0.0</td>\n",
       "      <td>1</td>\n",
       "    </tr>\n",
       "    <tr>\n",
       "      <th>1</th>\n",
       "      <td>2</td>\n",
       "      <td>120000.0</td>\n",
       "      <td>2</td>\n",
       "      <td>2</td>\n",
       "      <td>2</td>\n",
       "      <td>26</td>\n",
       "      <td>-1</td>\n",
       "      <td>2</td>\n",
       "      <td>0</td>\n",
       "      <td>0</td>\n",
       "      <td>...</td>\n",
       "      <td>3272.0</td>\n",
       "      <td>3455.0</td>\n",
       "      <td>3261.0</td>\n",
       "      <td>0.0</td>\n",
       "      <td>1000.0</td>\n",
       "      <td>1000.0</td>\n",
       "      <td>1000.0</td>\n",
       "      <td>0.0</td>\n",
       "      <td>2000.0</td>\n",
       "      <td>1</td>\n",
       "    </tr>\n",
       "    <tr>\n",
       "      <th>2</th>\n",
       "      <td>3</td>\n",
       "      <td>90000.0</td>\n",
       "      <td>2</td>\n",
       "      <td>2</td>\n",
       "      <td>2</td>\n",
       "      <td>34</td>\n",
       "      <td>0</td>\n",
       "      <td>0</td>\n",
       "      <td>0</td>\n",
       "      <td>0</td>\n",
       "      <td>...</td>\n",
       "      <td>14331.0</td>\n",
       "      <td>14948.0</td>\n",
       "      <td>15549.0</td>\n",
       "      <td>1518.0</td>\n",
       "      <td>1500.0</td>\n",
       "      <td>1000.0</td>\n",
       "      <td>1000.0</td>\n",
       "      <td>1000.0</td>\n",
       "      <td>5000.0</td>\n",
       "      <td>0</td>\n",
       "    </tr>\n",
       "    <tr>\n",
       "      <th>3</th>\n",
       "      <td>4</td>\n",
       "      <td>50000.0</td>\n",
       "      <td>2</td>\n",
       "      <td>2</td>\n",
       "      <td>1</td>\n",
       "      <td>37</td>\n",
       "      <td>0</td>\n",
       "      <td>0</td>\n",
       "      <td>0</td>\n",
       "      <td>0</td>\n",
       "      <td>...</td>\n",
       "      <td>28314.0</td>\n",
       "      <td>28959.0</td>\n",
       "      <td>29547.0</td>\n",
       "      <td>2000.0</td>\n",
       "      <td>2019.0</td>\n",
       "      <td>1200.0</td>\n",
       "      <td>1100.0</td>\n",
       "      <td>1069.0</td>\n",
       "      <td>1000.0</td>\n",
       "      <td>0</td>\n",
       "    </tr>\n",
       "    <tr>\n",
       "      <th>4</th>\n",
       "      <td>5</td>\n",
       "      <td>50000.0</td>\n",
       "      <td>1</td>\n",
       "      <td>2</td>\n",
       "      <td>1</td>\n",
       "      <td>57</td>\n",
       "      <td>-1</td>\n",
       "      <td>0</td>\n",
       "      <td>-1</td>\n",
       "      <td>0</td>\n",
       "      <td>...</td>\n",
       "      <td>20940.0</td>\n",
       "      <td>19146.0</td>\n",
       "      <td>19131.0</td>\n",
       "      <td>2000.0</td>\n",
       "      <td>36681.0</td>\n",
       "      <td>10000.0</td>\n",
       "      <td>9000.0</td>\n",
       "      <td>689.0</td>\n",
       "      <td>679.0</td>\n",
       "      <td>0</td>\n",
       "    </tr>\n",
       "  </tbody>\n",
       "</table>\n",
       "<p>5 rows × 25 columns</p>\n",
       "</div>"
      ],
      "text/plain": [
       "   ID  LIMIT_BAL  SEX  EDUCATION  MARRIAGE  AGE  PAY_0  PAY_2  PAY_3  PAY_4  \\\n",
       "0   1    20000.0    2          2         1   24      2      2     -1     -1   \n",
       "1   2   120000.0    2          2         2   26     -1      2      0      0   \n",
       "2   3    90000.0    2          2         2   34      0      0      0      0   \n",
       "3   4    50000.0    2          2         1   37      0      0      0      0   \n",
       "4   5    50000.0    1          2         1   57     -1      0     -1      0   \n",
       "\n",
       "   ...  BILL_AMT4  BILL_AMT5  BILL_AMT6  PAY_AMT1  PAY_AMT2  PAY_AMT3  \\\n",
       "0  ...        0.0        0.0        0.0       0.0     689.0       0.0   \n",
       "1  ...     3272.0     3455.0     3261.0       0.0    1000.0    1000.0   \n",
       "2  ...    14331.0    14948.0    15549.0    1518.0    1500.0    1000.0   \n",
       "3  ...    28314.0    28959.0    29547.0    2000.0    2019.0    1200.0   \n",
       "4  ...    20940.0    19146.0    19131.0    2000.0   36681.0   10000.0   \n",
       "\n",
       "   PAY_AMT4  PAY_AMT5  PAY_AMT6  default.payment.next.month  \n",
       "0       0.0       0.0       0.0                           1  \n",
       "1    1000.0       0.0    2000.0                           1  \n",
       "2    1000.0    1000.0    5000.0                           0  \n",
       "3    1100.0    1069.0    1000.0                           0  \n",
       "4    9000.0     689.0     679.0                           0  \n",
       "\n",
       "[5 rows x 25 columns]"
      ]
     },
     "execution_count": 11,
     "metadata": {},
     "output_type": "execute_result"
    }
   ],
   "source": [
    "credit_card_data.head() # проверяем, что файл прочитался"
   ]
  },
  {
   "cell_type": "code",
   "execution_count": 12,
   "id": "5393d89d",
   "metadata": {},
   "outputs": [
    {
     "data": {
      "text/plain": [
       "(30000, 25)"
      ]
     },
     "execution_count": 12,
     "metadata": {},
     "output_type": "execute_result"
    }
   ],
   "source": [
    "credit_card_data.shape # смотрим размерность датасета с тренировочными данными"
   ]
  },
  {
   "cell_type": "markdown",
   "id": "d49a64f5",
   "metadata": {},
   "source": [
    "Считаем количество ячеек в столбцах датасета со значением NaN, которое не востребовано для дальнейшей предобработки данных"
   ]
  },
  {
   "cell_type": "code",
   "execution_count": 13,
   "id": "58ca00ce",
   "metadata": {},
   "outputs": [
    {
     "data": {
      "text/plain": [
       "ID                            0\n",
       "LIMIT_BAL                     0\n",
       "SEX                           0\n",
       "EDUCATION                     0\n",
       "MARRIAGE                      0\n",
       "AGE                           0\n",
       "PAY_0                         0\n",
       "PAY_2                         0\n",
       "PAY_3                         0\n",
       "PAY_4                         0\n",
       "PAY_5                         0\n",
       "PAY_6                         0\n",
       "BILL_AMT1                     0\n",
       "BILL_AMT2                     0\n",
       "BILL_AMT3                     0\n",
       "BILL_AMT4                     0\n",
       "BILL_AMT5                     0\n",
       "BILL_AMT6                     0\n",
       "PAY_AMT1                      0\n",
       "PAY_AMT2                      0\n",
       "PAY_AMT3                      0\n",
       "PAY_AMT4                      0\n",
       "PAY_AMT5                      0\n",
       "PAY_AMT6                      0\n",
       "default.payment.next.month    0\n",
       "dtype: int64"
      ]
     },
     "execution_count": 13,
     "metadata": {},
     "output_type": "execute_result"
    }
   ],
   "source": [
    "np.sum(credit_card_data.isna())"
   ]
  },
  {
   "cell_type": "markdown",
   "id": "12ef8ee2",
   "metadata": {},
   "source": [
    "Ячейки со значением NaN отсутствуют, поэтому мы можем продолжить работу со всеми данными датасета.\n",
    "\n",
    "При проверке размерности нашего датасета мы узнали, что в нём содержится 30 тысяч строк. Считаем, что это слишком большой объём данных и, чтобы не перегружать систему, возьмём только часть данных. Например, 300 строк"
   ]
  },
  {
   "cell_type": "code",
   "execution_count": 14,
   "id": "9c5165c3",
   "metadata": {},
   "outputs": [],
   "source": [
    "credit_card_data = credit_card_data.iloc[:300] # берём первые 300 строк"
   ]
  },
  {
   "cell_type": "code",
   "execution_count": 16,
   "id": "7dab68be",
   "metadata": {},
   "outputs": [
    {
     "data": {
      "text/plain": [
       "(300, 25)"
      ]
     },
     "execution_count": 16,
     "metadata": {},
     "output_type": "execute_result"
    }
   ],
   "source": [
    "credit_card_data.shape # проверяем размерность нового датасета"
   ]
  },
  {
   "cell_type": "markdown",
   "id": "19d1a776",
   "metadata": {},
   "source": [
    "Объединим несколько столбцов, чтобы сократить их количество. Например, столбцы **PAY_AMT**, содержащие данные о сумме предыдущего платежа. Сложим их, чтобы получить общую сумму платежей владельца кредитной карты за весь период"
   ]
  },
  {
   "cell_type": "code",
   "execution_count": 17,
   "id": "dba909ce",
   "metadata": {},
   "outputs": [],
   "source": [
    "credit_card_data['SUM_PAY'] = credit_card_data['PAY_AMT1'] + credit_card_data['PAY_AMT2'] + credit_card_data['PAY_AMT3'] + credit_card_data['PAY_AMT4'] + credit_card_data['PAY_AMT5'] + credit_card_data['PAY_AMT6'] # в датафрейме создаём новую колонку (сумма)\n",
    "credit_card_data = credit_card_data.drop(['PAY_AMT1', 'PAY_AMT2', 'PAY_AMT3', 'PAY_AMT4', 'PAY_AMT5', 'PAY_AMT6'], axis=1) # после получения новой фичи (features) нужно сбросить старые колонки; используем функцию drop, axis=1 сбрасывает колонки"
   ]
  },
  {
   "cell_type": "code",
   "execution_count": 21,
   "id": "89e6fdcd",
   "metadata": {},
   "outputs": [
    {
     "data": {
      "text/html": [
       "<div>\n",
       "<style scoped>\n",
       "    .dataframe tbody tr th:only-of-type {\n",
       "        vertical-align: middle;\n",
       "    }\n",
       "\n",
       "    .dataframe tbody tr th {\n",
       "        vertical-align: top;\n",
       "    }\n",
       "\n",
       "    .dataframe thead th {\n",
       "        text-align: right;\n",
       "    }\n",
       "</style>\n",
       "<table border=\"1\" class=\"dataframe\">\n",
       "  <thead>\n",
       "    <tr style=\"text-align: right;\">\n",
       "      <th></th>\n",
       "      <th>ID</th>\n",
       "      <th>LIMIT_BAL</th>\n",
       "      <th>SEX</th>\n",
       "      <th>EDUCATION</th>\n",
       "      <th>MARRIAGE</th>\n",
       "      <th>AGE</th>\n",
       "      <th>PAY_0</th>\n",
       "      <th>PAY_2</th>\n",
       "      <th>PAY_3</th>\n",
       "      <th>PAY_4</th>\n",
       "      <th>PAY_5</th>\n",
       "      <th>PAY_6</th>\n",
       "      <th>BILL_AMT1</th>\n",
       "      <th>BILL_AMT2</th>\n",
       "      <th>BILL_AMT3</th>\n",
       "      <th>BILL_AMT4</th>\n",
       "      <th>BILL_AMT5</th>\n",
       "      <th>BILL_AMT6</th>\n",
       "      <th>default.payment.next.month</th>\n",
       "      <th>SUM_PAY</th>\n",
       "    </tr>\n",
       "  </thead>\n",
       "  <tbody>\n",
       "    <tr>\n",
       "      <th>0</th>\n",
       "      <td>1</td>\n",
       "      <td>20000.0</td>\n",
       "      <td>2</td>\n",
       "      <td>2</td>\n",
       "      <td>1</td>\n",
       "      <td>24</td>\n",
       "      <td>2</td>\n",
       "      <td>2</td>\n",
       "      <td>-1</td>\n",
       "      <td>-1</td>\n",
       "      <td>-2</td>\n",
       "      <td>-2</td>\n",
       "      <td>3913.0</td>\n",
       "      <td>3102.0</td>\n",
       "      <td>689.0</td>\n",
       "      <td>0.0</td>\n",
       "      <td>0.0</td>\n",
       "      <td>0.0</td>\n",
       "      <td>1</td>\n",
       "      <td>689.0</td>\n",
       "    </tr>\n",
       "    <tr>\n",
       "      <th>1</th>\n",
       "      <td>2</td>\n",
       "      <td>120000.0</td>\n",
       "      <td>2</td>\n",
       "      <td>2</td>\n",
       "      <td>2</td>\n",
       "      <td>26</td>\n",
       "      <td>-1</td>\n",
       "      <td>2</td>\n",
       "      <td>0</td>\n",
       "      <td>0</td>\n",
       "      <td>0</td>\n",
       "      <td>2</td>\n",
       "      <td>2682.0</td>\n",
       "      <td>1725.0</td>\n",
       "      <td>2682.0</td>\n",
       "      <td>3272.0</td>\n",
       "      <td>3455.0</td>\n",
       "      <td>3261.0</td>\n",
       "      <td>1</td>\n",
       "      <td>5000.0</td>\n",
       "    </tr>\n",
       "    <tr>\n",
       "      <th>2</th>\n",
       "      <td>3</td>\n",
       "      <td>90000.0</td>\n",
       "      <td>2</td>\n",
       "      <td>2</td>\n",
       "      <td>2</td>\n",
       "      <td>34</td>\n",
       "      <td>0</td>\n",
       "      <td>0</td>\n",
       "      <td>0</td>\n",
       "      <td>0</td>\n",
       "      <td>0</td>\n",
       "      <td>0</td>\n",
       "      <td>29239.0</td>\n",
       "      <td>14027.0</td>\n",
       "      <td>13559.0</td>\n",
       "      <td>14331.0</td>\n",
       "      <td>14948.0</td>\n",
       "      <td>15549.0</td>\n",
       "      <td>0</td>\n",
       "      <td>11018.0</td>\n",
       "    </tr>\n",
       "    <tr>\n",
       "      <th>3</th>\n",
       "      <td>4</td>\n",
       "      <td>50000.0</td>\n",
       "      <td>2</td>\n",
       "      <td>2</td>\n",
       "      <td>1</td>\n",
       "      <td>37</td>\n",
       "      <td>0</td>\n",
       "      <td>0</td>\n",
       "      <td>0</td>\n",
       "      <td>0</td>\n",
       "      <td>0</td>\n",
       "      <td>0</td>\n",
       "      <td>46990.0</td>\n",
       "      <td>48233.0</td>\n",
       "      <td>49291.0</td>\n",
       "      <td>28314.0</td>\n",
       "      <td>28959.0</td>\n",
       "      <td>29547.0</td>\n",
       "      <td>0</td>\n",
       "      <td>8388.0</td>\n",
       "    </tr>\n",
       "    <tr>\n",
       "      <th>4</th>\n",
       "      <td>5</td>\n",
       "      <td>50000.0</td>\n",
       "      <td>1</td>\n",
       "      <td>2</td>\n",
       "      <td>1</td>\n",
       "      <td>57</td>\n",
       "      <td>-1</td>\n",
       "      <td>0</td>\n",
       "      <td>-1</td>\n",
       "      <td>0</td>\n",
       "      <td>0</td>\n",
       "      <td>0</td>\n",
       "      <td>8617.0</td>\n",
       "      <td>5670.0</td>\n",
       "      <td>35835.0</td>\n",
       "      <td>20940.0</td>\n",
       "      <td>19146.0</td>\n",
       "      <td>19131.0</td>\n",
       "      <td>0</td>\n",
       "      <td>59049.0</td>\n",
       "    </tr>\n",
       "  </tbody>\n",
       "</table>\n",
       "</div>"
      ],
      "text/plain": [
       "   ID  LIMIT_BAL  SEX  EDUCATION  MARRIAGE  AGE  PAY_0  PAY_2  PAY_3  PAY_4  \\\n",
       "0   1    20000.0    2          2         1   24      2      2     -1     -1   \n",
       "1   2   120000.0    2          2         2   26     -1      2      0      0   \n",
       "2   3    90000.0    2          2         2   34      0      0      0      0   \n",
       "3   4    50000.0    2          2         1   37      0      0      0      0   \n",
       "4   5    50000.0    1          2         1   57     -1      0     -1      0   \n",
       "\n",
       "   PAY_5  PAY_6  BILL_AMT1  BILL_AMT2  BILL_AMT3  BILL_AMT4  BILL_AMT5  \\\n",
       "0     -2     -2     3913.0     3102.0      689.0        0.0        0.0   \n",
       "1      0      2     2682.0     1725.0     2682.0     3272.0     3455.0   \n",
       "2      0      0    29239.0    14027.0    13559.0    14331.0    14948.0   \n",
       "3      0      0    46990.0    48233.0    49291.0    28314.0    28959.0   \n",
       "4      0      0     8617.0     5670.0    35835.0    20940.0    19146.0   \n",
       "\n",
       "   BILL_AMT6  default.payment.next.month  SUM_PAY  \n",
       "0        0.0                           1    689.0  \n",
       "1     3261.0                           1   5000.0  \n",
       "2    15549.0                           0  11018.0  \n",
       "3    29547.0                           0   8388.0  \n",
       "4    19131.0                           0  59049.0  "
      ]
     },
     "execution_count": 21,
     "metadata": {},
     "output_type": "execute_result"
    }
   ],
   "source": [
    "credit_card_data.head() # убедимся, что новая колонка добавилась, а старые удалились"
   ]
  },
  {
   "cell_type": "markdown",
   "id": "f46808f7",
   "metadata": {},
   "source": [
    "Для проведения дальнейших исследований разделим полученный датасет на тренировочные и тестировочные данные.\n",
    "\n",
    "Возьмём данные по столбцам **LIMIT_BAL** (сумма предоставленного кредита) и **SUM_PAY** (сумма всех платежей) и попробуем определить пол плательщика (**SEX**): если значение равно \"1\", то это мужчина, если значение равно \"2\", то женщина"
   ]
  },
  {
   "cell_type": "code",
   "execution_count": 89,
   "id": "ae02e932",
   "metadata": {},
   "outputs": [
    {
     "name": "stdout",
     "output_type": "stream",
     "text": [
      "X_train.shape: (200, 2)\n",
      "Y_train.shape: (200,)\n",
      "X_test.shape: (100, 2)\n",
      "Y_test.shape: (100,)\n"
     ]
    }
   ],
   "source": [
    "# 2/3 данных испольуем в качестве тренировочных данных\n",
    "X_train = credit_card_data[['LIMIT_BAL', 'SUM_PAY']][:200].values # разбиваем датасет на тренировочные данные X (features)\n",
    "Y_train = credit_card_data['SEX'][:200] # и тренировочные результаты Y (labels)\n",
    "# 1/3 данных отдаём в тестировочные данные\n",
    "X_test = credit_card_data[['LIMIT_BAL', 'SUM_PAY']][200:].values\n",
    "Y_test = credit_card_data['SEX'][200:]\n",
    "\n",
    "print(\"X_train.shape: {}\".format(X_train.shape))\n",
    "print(\"Y_train.shape: {}\".format(Y_train.shape))\n",
    "print(\"X_test.shape: {}\".format(X_test.shape))\n",
    "print(\"Y_test.shape: {}\".format(Y_test.shape))"
   ]
  },
  {
   "cell_type": "markdown",
   "id": "cdce4f7a",
   "metadata": {},
   "source": [
    "С помощью классификатора логистической регресии предсказываем данные (без регуляризации)"
   ]
  },
  {
   "cell_type": "code",
   "execution_count": 90,
   "id": "6f59fe54",
   "metadata": {},
   "outputs": [
    {
     "data": {
      "text/plain": [
       "LinearRegression()"
      ]
     },
     "execution_count": 90,
     "metadata": {},
     "output_type": "execute_result"
    }
   ],
   "source": [
    "from sklearn.linear_model import LogisticRegression\n",
    "clf = LogisticRegression()\n",
    "\n",
    "clf.fit(X_train, Y_train) # обучаем модель"
   ]
  },
  {
   "cell_type": "code",
   "execution_count": 91,
   "id": "8fc58fce",
   "metadata": {},
   "outputs": [],
   "source": [
    "Y_pred = clf.predict(X_test) # делаем предсказание"
   ]
  },
  {
   "cell_type": "code",
   "execution_count": 92,
   "id": "ac1a24e2",
   "metadata": {},
   "outputs": [
    {
     "data": {
      "text/plain": [
       "array([1, 1, 1, 1, 1, 1, 1, 1, 1, 1, 1, 1, 1, 1, 1, 1, 1, 1, 1, 1, 1, 1,\n",
       "       1, 1, 1, 1, 1, 1, 1, 1, 1, 1, 1, 1, 1, 1, 1, 1, 1, 1, 1, 1, 1, 1,\n",
       "       1, 1, 1, 1, 1, 1, 1, 1, 1, 1, 1, 1, 1, 1, 1, 1, 1, 1, 1, 1, 1, 1,\n",
       "       1, 1, 1, 1, 1, 1, 1, 1, 1, 1, 1, 1, 1, 1, 1, 1, 1, 1, 1, 1, 1, 1,\n",
       "       1, 1, 1, 1, 1, 1, 1, 1, 1, 1, 1, 1])"
      ]
     },
     "execution_count": 92,
     "metadata": {},
     "output_type": "execute_result"
    }
   ],
   "source": [
    "Y_pred"
   ]
  },
  {
   "cell_type": "markdown",
   "id": "1a29667d",
   "metadata": {},
   "source": [
    "Для оценки точности регрессионной модели используем метод **accuracy_score** из библиотеки **sklearn**"
   ]
  },
  {
   "cell_type": "code",
   "execution_count": 115,
   "id": "872dd5d4",
   "metadata": {},
   "outputs": [
    {
     "name": "stdout",
     "output_type": "stream",
     "text": [
      "train accuracy: 0.53\n",
      "test accuracy: 0.65\n"
     ]
    }
   ],
   "source": [
    "from sklearn.metrics import accuracy_score\n",
    "\n",
    "print(\"train accuracy: {}\".format(accuracy_score(Y_train, clf.predict(X_train)))) # Y_train (реальные выходные данные labels) и clf.predict(X_train) (предсказанные данные) \n",
    "print(\"test accuracy: {}\".format(accuracy_score(Y_test, clf.predict(X_test))))"
   ]
  },
  {
   "cell_type": "markdown",
   "id": "d31ed9f6",
   "metadata": {},
   "source": [
    "Из результатов вычислений видно, что с тренировочными данными модель справилась с точностью 0.48, а с тестовыми - 0.37.\n",
    "\n",
    "Теперь попробуем применить к нашей модели классификатор с регуляризацией. Для этой цели выберем SDG-классификатор, основанный на методе стохастического градиентного спуска"
   ]
  },
  {
   "cell_type": "code",
   "execution_count": 116,
   "id": "c850d949",
   "metadata": {},
   "outputs": [],
   "source": [
    "from sklearn.linear_model import SGDClassifier # импортируем классификатор"
   ]
  },
  {
   "cell_type": "code",
   "execution_count": 117,
   "id": "ae499d16",
   "metadata": {},
   "outputs": [],
   "source": [
    "clf = SGDClassifier(verbose=4, max_iter=500) # устанавливаем значение в 500 итераций"
   ]
  },
  {
   "cell_type": "code",
   "execution_count": 118,
   "id": "296412de",
   "metadata": {},
   "outputs": [
    {
     "name": "stdout",
     "output_type": "stream",
     "text": [
      "-- Epoch 1\n",
      "Norm: 3565676.78, NNZs: 2, Bias: 5.233623, T: 200, Avg. loss: 109010584986.000336\n",
      "Total training time: 0.00 seconds.\n",
      "-- Epoch 2\n",
      "Norm: 346124.53, NNZs: 2, Bias: 18.808629, T: 400, Avg. loss: 96177954945.851822\n",
      "Total training time: 0.00 seconds.\n",
      "-- Epoch 3\n",
      "Norm: 251407.45, NNZs: 2, Bias: 58.685431, T: 600, Avg. loss: 83041745597.454880\n",
      "Total training time: 0.00 seconds.\n",
      "-- Epoch 4\n",
      "Norm: 548160.16, NNZs: 2, Bias: 22.472595, T: 800, Avg. loss: 58032400515.889549\n",
      "Total training time: 0.00 seconds.\n",
      "-- Epoch 5\n",
      "Norm: 1712787.38, NNZs: 2, Bias: -3.993656, T: 1000, Avg. loss: 69683826711.532059\n",
      "Total training time: 0.00 seconds.\n",
      "-- Epoch 6\n",
      "Norm: 728511.35, NNZs: 2, Bias: -42.799484, T: 1200, Avg. loss: 53929735089.635345\n",
      "Total training time: 0.00 seconds.\n",
      "-- Epoch 7\n",
      "Norm: 529677.45, NNZs: 2, Bias: -16.799817, T: 1400, Avg. loss: 50683749241.937851\n",
      "Total training time: 0.00 seconds.\n",
      "-- Epoch 8\n",
      "Norm: 258086.47, NNZs: 2, Bias: -14.701014, T: 1600, Avg. loss: 59520674832.056389\n",
      "Total training time: 0.00 seconds.\n",
      "-- Epoch 9\n",
      "Norm: 1219621.83, NNZs: 2, Bias: -0.701943, T: 1800, Avg. loss: 43859342796.828072\n",
      "Total training time: 0.00 seconds.\n",
      "-- Epoch 10\n",
      "Norm: 736815.53, NNZs: 2, Bias: -5.153403, T: 2000, Avg. loss: 47455923103.495018\n",
      "Total training time: 0.01 seconds.\n",
      "-- Epoch 11\n",
      "Norm: 515977.28, NNZs: 2, Bias: -40.847369, T: 2200, Avg. loss: 46089592222.760330\n",
      "Total training time: 0.01 seconds.\n",
      "-- Epoch 12\n",
      "Norm: 997028.50, NNZs: 2, Bias: -40.840172, T: 2400, Avg. loss: 35326615526.761299\n",
      "Total training time: 0.01 seconds.\n",
      "-- Epoch 13\n",
      "Norm: 273077.26, NNZs: 2, Bias: -32.318185, T: 2600, Avg. loss: 38380762206.137436\n",
      "Total training time: 0.01 seconds.\n",
      "-- Epoch 14\n",
      "Norm: 330193.46, NNZs: 2, Bias: -32.156061, T: 2800, Avg. loss: 36969105721.975525\n",
      "Total training time: 0.01 seconds.\n",
      "-- Epoch 15\n",
      "Norm: 403990.47, NNZs: 2, Bias: -50.124786, T: 3000, Avg. loss: 31512642836.994209\n",
      "Total training time: 0.01 seconds.\n",
      "-- Epoch 16\n",
      "Norm: 802254.10, NNZs: 2, Bias: -62.408172, T: 3200, Avg. loss: 32434470293.150192\n",
      "Total training time: 0.01 seconds.\n",
      "-- Epoch 17\n",
      "Norm: 591347.94, NNZs: 2, Bias: -83.469588, T: 3400, Avg. loss: 22890308061.892887\n",
      "Total training time: 0.01 seconds.\n",
      "-- Epoch 18\n",
      "Norm: 138791.99, NNZs: 2, Bias: -76.494847, T: 3600, Avg. loss: 26973948123.136322\n",
      "Total training time: 0.01 seconds.\n",
      "-- Epoch 19\n",
      "Norm: 697999.49, NNZs: 2, Bias: -83.016652, T: 3800, Avg. loss: 20147778022.506920\n",
      "Total training time: 0.01 seconds.\n",
      "-- Epoch 20\n",
      "Norm: 373069.90, NNZs: 2, Bias: -101.303793, T: 4000, Avg. loss: 29426779934.453632\n",
      "Total training time: 0.01 seconds.\n",
      "-- Epoch 21\n",
      "Norm: 909442.25, NNZs: 2, Bias: -117.132140, T: 4200, Avg. loss: 19103912717.140621\n",
      "Total training time: 0.01 seconds.\n",
      "-- Epoch 22\n",
      "Norm: 589540.94, NNZs: 2, Bias: -132.568584, T: 4400, Avg. loss: 26934744044.085499\n",
      "Total training time: 0.01 seconds.\n",
      "-- Epoch 23\n",
      "Norm: 877713.97, NNZs: 2, Bias: -152.679798, T: 4600, Avg. loss: 21682725040.797821\n",
      "Total training time: 0.01 seconds.\n",
      "-- Epoch 24\n",
      "Norm: 546781.74, NNZs: 2, Bias: -157.967102, T: 4800, Avg. loss: 23365455853.023472\n",
      "Total training time: 0.01 seconds.\n",
      "-- Epoch 25\n",
      "Norm: 848186.67, NNZs: 2, Bias: -147.805024, T: 5000, Avg. loss: 18386721235.238369\n",
      "Total training time: 0.01 seconds.\n",
      "-- Epoch 26\n",
      "Norm: 602162.88, NNZs: 2, Bias: -154.434785, T: 5200, Avg. loss: 21571644237.201153\n",
      "Total training time: 0.01 seconds.\n",
      "-- Epoch 27\n",
      "Norm: 353112.57, NNZs: 2, Bias: -164.107051, T: 5400, Avg. loss: 15863456760.071821\n",
      "Total training time: 0.01 seconds.\n",
      "-- Epoch 28\n",
      "Norm: 379900.07, NNZs: 2, Bias: -176.436738, T: 5600, Avg. loss: 19168848545.824261\n",
      "Total training time: 0.01 seconds.\n",
      "-- Epoch 29\n",
      "Norm: 560913.17, NNZs: 2, Bias: -185.522885, T: 5800, Avg. loss: 17396270931.101665\n",
      "Total training time: 0.01 seconds.\n",
      "-- Epoch 30\n",
      "Norm: 438000.75, NNZs: 2, Bias: -194.150539, T: 6000, Avg. loss: 22056725697.387520\n",
      "Total training time: 0.01 seconds.\n",
      "-- Epoch 31\n",
      "Norm: 316236.40, NNZs: 2, Bias: -187.002283, T: 6200, Avg. loss: 20656974813.790863\n",
      "Total training time: 0.01 seconds.\n",
      "-- Epoch 32\n",
      "Norm: 802606.67, NNZs: 2, Bias: -201.844624, T: 6400, Avg. loss: 18126605664.301022\n",
      "Total training time: 0.01 seconds.\n",
      "Convergence after 32 epochs took 0.01 seconds\n"
     ]
    },
    {
     "data": {
      "text/plain": [
       "SGDClassifier(max_iter=500, verbose=4)"
      ]
     },
     "execution_count": 118,
     "metadata": {},
     "output_type": "execute_result"
    }
   ],
   "source": [
    "clf.fit(X_train, Y_train) # обучаем модель на тренировочных данных"
   ]
  },
  {
   "cell_type": "code",
   "execution_count": 119,
   "id": "0e2dae05",
   "metadata": {},
   "outputs": [
    {
     "name": "stdout",
     "output_type": "stream",
     "text": [
      "train accuracy: 0.535\n",
      "test accuracy: 0.65\n"
     ]
    }
   ],
   "source": [
    "from sklearn.metrics import accuracy_score # считаем тончость с помощью метода accuracy_score\n",
    "\n",
    "print(\"train accuracy: {}\".format(accuracy_score(Y_train, clf.predict(X_train)))) # Y_train (реальные выходные данные labels) и clf.predict(X_train) (предсказанные данные) \n",
    "print(\"test accuracy: {}\".format(accuracy_score(Y_test, clf.predict(X_test))))"
   ]
  },
  {
   "cell_type": "code",
   "execution_count": null,
   "id": "43742d9f",
   "metadata": {},
   "outputs": [],
   "source": []
  }
 ],
 "metadata": {
  "kernelspec": {
   "display_name": "Python 3 (ipykernel)",
   "language": "python",
   "name": "python3"
  },
  "language_info": {
   "codemirror_mode": {
    "name": "ipython",
    "version": 3
   },
   "file_extension": ".py",
   "mimetype": "text/x-python",
   "name": "python",
   "nbconvert_exporter": "python",
   "pygments_lexer": "ipython3",
   "version": "3.9.12"
  }
 },
 "nbformat": 4,
 "nbformat_minor": 5
}

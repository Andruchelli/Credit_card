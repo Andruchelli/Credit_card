{
 "cells": [
  {
   "cell_type": "markdown",
   "id": "0ae6a739",
   "metadata": {},
   "source": [
    "## Постановка задачи\n",
    "\n",
    "1. Предобработать данные из датасета **Credit card** и разделить их на тренировочный и тестовый датасеты.\n",
    "2. Создать простейший классификатор без регуляризации и обучить его на тренировочных данных.\n",
    "3. Создать простейший классификатор с регуляризацией и обучить его на тех же тренировочных данных.\n",
    "4. Сравнить точность двух классификаторов.\n",
    "5. Оценить **precision** и **recall** для каждого из результатов."
   ]
  },
  {
   "cell_type": "code",
   "execution_count": 321,
   "id": "20471bc4",
   "metadata": {},
   "outputs": [],
   "source": [
    "import numpy as np # импортируем библиотеку Numpy\n",
    "import pandas as pd # импортируем библиотеку Pandas\n",
    "import matplotlib.pyplot as plt # импортируем библиотеку Matplotlib"
   ]
  },
  {
   "cell_type": "code",
   "execution_count": 322,
   "id": "02a1efab",
   "metadata": {},
   "outputs": [],
   "source": [
    "credit_card_data = pd.read_csv('https://raw.githubusercontent.com/Andruchelli/Credit_card/main/UCI_Credit_Card.csv') # прочитаем файл с данными"
   ]
  },
  {
   "cell_type": "code",
   "execution_count": 323,
   "id": "abcb4488",
   "metadata": {},
   "outputs": [
    {
     "data": {
      "text/html": [
       "<div>\n",
       "<style scoped>\n",
       "    .dataframe tbody tr th:only-of-type {\n",
       "        vertical-align: middle;\n",
       "    }\n",
       "\n",
       "    .dataframe tbody tr th {\n",
       "        vertical-align: top;\n",
       "    }\n",
       "\n",
       "    .dataframe thead th {\n",
       "        text-align: right;\n",
       "    }\n",
       "</style>\n",
       "<table border=\"1\" class=\"dataframe\">\n",
       "  <thead>\n",
       "    <tr style=\"text-align: right;\">\n",
       "      <th></th>\n",
       "      <th>ID</th>\n",
       "      <th>LIMIT_BAL</th>\n",
       "      <th>SEX</th>\n",
       "      <th>EDUCATION</th>\n",
       "      <th>MARRIAGE</th>\n",
       "      <th>AGE</th>\n",
       "      <th>PAY_0</th>\n",
       "      <th>PAY_2</th>\n",
       "      <th>PAY_3</th>\n",
       "      <th>PAY_4</th>\n",
       "      <th>...</th>\n",
       "      <th>BILL_AMT4</th>\n",
       "      <th>BILL_AMT5</th>\n",
       "      <th>BILL_AMT6</th>\n",
       "      <th>PAY_AMT1</th>\n",
       "      <th>PAY_AMT2</th>\n",
       "      <th>PAY_AMT3</th>\n",
       "      <th>PAY_AMT4</th>\n",
       "      <th>PAY_AMT5</th>\n",
       "      <th>PAY_AMT6</th>\n",
       "      <th>default.payment.next.month</th>\n",
       "    </tr>\n",
       "  </thead>\n",
       "  <tbody>\n",
       "    <tr>\n",
       "      <th>0</th>\n",
       "      <td>1</td>\n",
       "      <td>20000.0</td>\n",
       "      <td>2</td>\n",
       "      <td>2</td>\n",
       "      <td>1</td>\n",
       "      <td>24</td>\n",
       "      <td>2</td>\n",
       "      <td>2</td>\n",
       "      <td>-1</td>\n",
       "      <td>-1</td>\n",
       "      <td>...</td>\n",
       "      <td>0.0</td>\n",
       "      <td>0.0</td>\n",
       "      <td>0.0</td>\n",
       "      <td>0.0</td>\n",
       "      <td>689.0</td>\n",
       "      <td>0.0</td>\n",
       "      <td>0.0</td>\n",
       "      <td>0.0</td>\n",
       "      <td>0.0</td>\n",
       "      <td>1</td>\n",
       "    </tr>\n",
       "    <tr>\n",
       "      <th>1</th>\n",
       "      <td>2</td>\n",
       "      <td>120000.0</td>\n",
       "      <td>2</td>\n",
       "      <td>2</td>\n",
       "      <td>2</td>\n",
       "      <td>26</td>\n",
       "      <td>-1</td>\n",
       "      <td>2</td>\n",
       "      <td>0</td>\n",
       "      <td>0</td>\n",
       "      <td>...</td>\n",
       "      <td>3272.0</td>\n",
       "      <td>3455.0</td>\n",
       "      <td>3261.0</td>\n",
       "      <td>0.0</td>\n",
       "      <td>1000.0</td>\n",
       "      <td>1000.0</td>\n",
       "      <td>1000.0</td>\n",
       "      <td>0.0</td>\n",
       "      <td>2000.0</td>\n",
       "      <td>1</td>\n",
       "    </tr>\n",
       "    <tr>\n",
       "      <th>2</th>\n",
       "      <td>3</td>\n",
       "      <td>90000.0</td>\n",
       "      <td>2</td>\n",
       "      <td>2</td>\n",
       "      <td>2</td>\n",
       "      <td>34</td>\n",
       "      <td>0</td>\n",
       "      <td>0</td>\n",
       "      <td>0</td>\n",
       "      <td>0</td>\n",
       "      <td>...</td>\n",
       "      <td>14331.0</td>\n",
       "      <td>14948.0</td>\n",
       "      <td>15549.0</td>\n",
       "      <td>1518.0</td>\n",
       "      <td>1500.0</td>\n",
       "      <td>1000.0</td>\n",
       "      <td>1000.0</td>\n",
       "      <td>1000.0</td>\n",
       "      <td>5000.0</td>\n",
       "      <td>0</td>\n",
       "    </tr>\n",
       "    <tr>\n",
       "      <th>3</th>\n",
       "      <td>4</td>\n",
       "      <td>50000.0</td>\n",
       "      <td>2</td>\n",
       "      <td>2</td>\n",
       "      <td>1</td>\n",
       "      <td>37</td>\n",
       "      <td>0</td>\n",
       "      <td>0</td>\n",
       "      <td>0</td>\n",
       "      <td>0</td>\n",
       "      <td>...</td>\n",
       "      <td>28314.0</td>\n",
       "      <td>28959.0</td>\n",
       "      <td>29547.0</td>\n",
       "      <td>2000.0</td>\n",
       "      <td>2019.0</td>\n",
       "      <td>1200.0</td>\n",
       "      <td>1100.0</td>\n",
       "      <td>1069.0</td>\n",
       "      <td>1000.0</td>\n",
       "      <td>0</td>\n",
       "    </tr>\n",
       "    <tr>\n",
       "      <th>4</th>\n",
       "      <td>5</td>\n",
       "      <td>50000.0</td>\n",
       "      <td>1</td>\n",
       "      <td>2</td>\n",
       "      <td>1</td>\n",
       "      <td>57</td>\n",
       "      <td>-1</td>\n",
       "      <td>0</td>\n",
       "      <td>-1</td>\n",
       "      <td>0</td>\n",
       "      <td>...</td>\n",
       "      <td>20940.0</td>\n",
       "      <td>19146.0</td>\n",
       "      <td>19131.0</td>\n",
       "      <td>2000.0</td>\n",
       "      <td>36681.0</td>\n",
       "      <td>10000.0</td>\n",
       "      <td>9000.0</td>\n",
       "      <td>689.0</td>\n",
       "      <td>679.0</td>\n",
       "      <td>0</td>\n",
       "    </tr>\n",
       "  </tbody>\n",
       "</table>\n",
       "<p>5 rows × 25 columns</p>\n",
       "</div>"
      ],
      "text/plain": [
       "   ID  LIMIT_BAL  SEX  EDUCATION  MARRIAGE  AGE  PAY_0  PAY_2  PAY_3  PAY_4  \\\n",
       "0   1    20000.0    2          2         1   24      2      2     -1     -1   \n",
       "1   2   120000.0    2          2         2   26     -1      2      0      0   \n",
       "2   3    90000.0    2          2         2   34      0      0      0      0   \n",
       "3   4    50000.0    2          2         1   37      0      0      0      0   \n",
       "4   5    50000.0    1          2         1   57     -1      0     -1      0   \n",
       "\n",
       "   ...  BILL_AMT4  BILL_AMT5  BILL_AMT6  PAY_AMT1  PAY_AMT2  PAY_AMT3  \\\n",
       "0  ...        0.0        0.0        0.0       0.0     689.0       0.0   \n",
       "1  ...     3272.0     3455.0     3261.0       0.0    1000.0    1000.0   \n",
       "2  ...    14331.0    14948.0    15549.0    1518.0    1500.0    1000.0   \n",
       "3  ...    28314.0    28959.0    29547.0    2000.0    2019.0    1200.0   \n",
       "4  ...    20940.0    19146.0    19131.0    2000.0   36681.0   10000.0   \n",
       "\n",
       "   PAY_AMT4  PAY_AMT5  PAY_AMT6  default.payment.next.month  \n",
       "0       0.0       0.0       0.0                           1  \n",
       "1    1000.0       0.0    2000.0                           1  \n",
       "2    1000.0    1000.0    5000.0                           0  \n",
       "3    1100.0    1069.0    1000.0                           0  \n",
       "4    9000.0     689.0     679.0                           0  \n",
       "\n",
       "[5 rows x 25 columns]"
      ]
     },
     "execution_count": 323,
     "metadata": {},
     "output_type": "execute_result"
    }
   ],
   "source": [
    "credit_card_data.head() # проверяем, что файл прочитался"
   ]
  },
  {
   "cell_type": "code",
   "execution_count": 324,
   "id": "cf3461f2",
   "metadata": {},
   "outputs": [
    {
     "data": {
      "text/plain": [
       "(30000, 25)"
      ]
     },
     "execution_count": 324,
     "metadata": {},
     "output_type": "execute_result"
    }
   ],
   "source": [
    "credit_card_data.shape # смотрим размерность датасета с тренировочными данными"
   ]
  },
  {
   "cell_type": "markdown",
   "id": "2be103f1",
   "metadata": {},
   "source": [
    "Считаем количество ячеек в столбцах датасета со значением NaN, которое не востребовано для дальнейшей предобработки данных"
   ]
  },
  {
   "cell_type": "code",
   "execution_count": 325,
   "id": "d3c1b3f5",
   "metadata": {},
   "outputs": [
    {
     "data": {
      "text/plain": [
       "ID                            0\n",
       "LIMIT_BAL                     0\n",
       "SEX                           0\n",
       "EDUCATION                     0\n",
       "MARRIAGE                      0\n",
       "AGE                           0\n",
       "PAY_0                         0\n",
       "PAY_2                         0\n",
       "PAY_3                         0\n",
       "PAY_4                         0\n",
       "PAY_5                         0\n",
       "PAY_6                         0\n",
       "BILL_AMT1                     0\n",
       "BILL_AMT2                     0\n",
       "BILL_AMT3                     0\n",
       "BILL_AMT4                     0\n",
       "BILL_AMT5                     0\n",
       "BILL_AMT6                     0\n",
       "PAY_AMT1                      0\n",
       "PAY_AMT2                      0\n",
       "PAY_AMT3                      0\n",
       "PAY_AMT4                      0\n",
       "PAY_AMT5                      0\n",
       "PAY_AMT6                      0\n",
       "default.payment.next.month    0\n",
       "dtype: int64"
      ]
     },
     "execution_count": 325,
     "metadata": {},
     "output_type": "execute_result"
    }
   ],
   "source": [
    "np.sum(credit_card_data.isna())"
   ]
  },
  {
   "cell_type": "markdown",
   "id": "71d173e6",
   "metadata": {},
   "source": [
    "Ячейки со значением NaN отсутствуют, поэтому мы можем продолжить работу со всеми данными датасета.\n",
    "\n",
    "При проверке размерности нашего датасета мы узнали, что в нём содержится 30 тысяч строк. Считаем, что это слишком большой объём данных и, чтобы не перегружать систему, возьмём только часть данных. Например, 300 строк"
   ]
  },
  {
   "cell_type": "code",
   "execution_count": 326,
   "id": "ab07cf6b",
   "metadata": {},
   "outputs": [],
   "source": [
    "credit_card_data = credit_card_data.iloc[:300] # берём первые 300 строк"
   ]
  },
  {
   "cell_type": "code",
   "execution_count": 327,
   "id": "6f505606",
   "metadata": {},
   "outputs": [
    {
     "data": {
      "text/plain": [
       "(300, 25)"
      ]
     },
     "execution_count": 327,
     "metadata": {},
     "output_type": "execute_result"
    }
   ],
   "source": [
    "credit_card_data.shape # проверяем размерность нового датасета"
   ]
  },
  {
   "cell_type": "markdown",
   "id": "bb3d1efc",
   "metadata": {},
   "source": [
    "Объединим несколько столбцов, чтобы сократить их количество. Например, столбцы **PAY_AMT**, содержащие данные о сумме предыдущего платежа. Сложим их, чтобы получить общую сумму платежей владельца кредитной карты за весь период"
   ]
  },
  {
   "cell_type": "code",
   "execution_count": 328,
   "id": "cc956e18",
   "metadata": {},
   "outputs": [],
   "source": [
    "credit_card_data['SUM_PAY'] = credit_card_data['PAY_AMT1'] + credit_card_data['PAY_AMT2'] + credit_card_data['PAY_AMT3'] + credit_card_data['PAY_AMT4'] + credit_card_data['PAY_AMT5'] + credit_card_data['PAY_AMT6'] # в датафрейме создаём новую колонку (сумма)\n",
    "credit_card_data = credit_card_data.drop(['PAY_AMT1', 'PAY_AMT2', 'PAY_AMT3', 'PAY_AMT4', 'PAY_AMT5', 'PAY_AMT6'], axis=1) # после получения новой фичи (features) нужно сбросить старые колонки; используем функцию drop, axis=1 сбрасывает колонки"
   ]
  },
  {
   "cell_type": "code",
   "execution_count": 329,
   "id": "f3cfc53e",
   "metadata": {},
   "outputs": [
    {
     "data": {
      "text/html": [
       "<div>\n",
       "<style scoped>\n",
       "    .dataframe tbody tr th:only-of-type {\n",
       "        vertical-align: middle;\n",
       "    }\n",
       "\n",
       "    .dataframe tbody tr th {\n",
       "        vertical-align: top;\n",
       "    }\n",
       "\n",
       "    .dataframe thead th {\n",
       "        text-align: right;\n",
       "    }\n",
       "</style>\n",
       "<table border=\"1\" class=\"dataframe\">\n",
       "  <thead>\n",
       "    <tr style=\"text-align: right;\">\n",
       "      <th></th>\n",
       "      <th>ID</th>\n",
       "      <th>LIMIT_BAL</th>\n",
       "      <th>SEX</th>\n",
       "      <th>EDUCATION</th>\n",
       "      <th>MARRIAGE</th>\n",
       "      <th>AGE</th>\n",
       "      <th>PAY_0</th>\n",
       "      <th>PAY_2</th>\n",
       "      <th>PAY_3</th>\n",
       "      <th>PAY_4</th>\n",
       "      <th>PAY_5</th>\n",
       "      <th>PAY_6</th>\n",
       "      <th>BILL_AMT1</th>\n",
       "      <th>BILL_AMT2</th>\n",
       "      <th>BILL_AMT3</th>\n",
       "      <th>BILL_AMT4</th>\n",
       "      <th>BILL_AMT5</th>\n",
       "      <th>BILL_AMT6</th>\n",
       "      <th>default.payment.next.month</th>\n",
       "      <th>SUM_PAY</th>\n",
       "    </tr>\n",
       "  </thead>\n",
       "  <tbody>\n",
       "    <tr>\n",
       "      <th>0</th>\n",
       "      <td>1</td>\n",
       "      <td>20000.0</td>\n",
       "      <td>2</td>\n",
       "      <td>2</td>\n",
       "      <td>1</td>\n",
       "      <td>24</td>\n",
       "      <td>2</td>\n",
       "      <td>2</td>\n",
       "      <td>-1</td>\n",
       "      <td>-1</td>\n",
       "      <td>-2</td>\n",
       "      <td>-2</td>\n",
       "      <td>3913.0</td>\n",
       "      <td>3102.0</td>\n",
       "      <td>689.0</td>\n",
       "      <td>0.0</td>\n",
       "      <td>0.0</td>\n",
       "      <td>0.0</td>\n",
       "      <td>1</td>\n",
       "      <td>689.0</td>\n",
       "    </tr>\n",
       "    <tr>\n",
       "      <th>1</th>\n",
       "      <td>2</td>\n",
       "      <td>120000.0</td>\n",
       "      <td>2</td>\n",
       "      <td>2</td>\n",
       "      <td>2</td>\n",
       "      <td>26</td>\n",
       "      <td>-1</td>\n",
       "      <td>2</td>\n",
       "      <td>0</td>\n",
       "      <td>0</td>\n",
       "      <td>0</td>\n",
       "      <td>2</td>\n",
       "      <td>2682.0</td>\n",
       "      <td>1725.0</td>\n",
       "      <td>2682.0</td>\n",
       "      <td>3272.0</td>\n",
       "      <td>3455.0</td>\n",
       "      <td>3261.0</td>\n",
       "      <td>1</td>\n",
       "      <td>5000.0</td>\n",
       "    </tr>\n",
       "    <tr>\n",
       "      <th>2</th>\n",
       "      <td>3</td>\n",
       "      <td>90000.0</td>\n",
       "      <td>2</td>\n",
       "      <td>2</td>\n",
       "      <td>2</td>\n",
       "      <td>34</td>\n",
       "      <td>0</td>\n",
       "      <td>0</td>\n",
       "      <td>0</td>\n",
       "      <td>0</td>\n",
       "      <td>0</td>\n",
       "      <td>0</td>\n",
       "      <td>29239.0</td>\n",
       "      <td>14027.0</td>\n",
       "      <td>13559.0</td>\n",
       "      <td>14331.0</td>\n",
       "      <td>14948.0</td>\n",
       "      <td>15549.0</td>\n",
       "      <td>0</td>\n",
       "      <td>11018.0</td>\n",
       "    </tr>\n",
       "    <tr>\n",
       "      <th>3</th>\n",
       "      <td>4</td>\n",
       "      <td>50000.0</td>\n",
       "      <td>2</td>\n",
       "      <td>2</td>\n",
       "      <td>1</td>\n",
       "      <td>37</td>\n",
       "      <td>0</td>\n",
       "      <td>0</td>\n",
       "      <td>0</td>\n",
       "      <td>0</td>\n",
       "      <td>0</td>\n",
       "      <td>0</td>\n",
       "      <td>46990.0</td>\n",
       "      <td>48233.0</td>\n",
       "      <td>49291.0</td>\n",
       "      <td>28314.0</td>\n",
       "      <td>28959.0</td>\n",
       "      <td>29547.0</td>\n",
       "      <td>0</td>\n",
       "      <td>8388.0</td>\n",
       "    </tr>\n",
       "    <tr>\n",
       "      <th>4</th>\n",
       "      <td>5</td>\n",
       "      <td>50000.0</td>\n",
       "      <td>1</td>\n",
       "      <td>2</td>\n",
       "      <td>1</td>\n",
       "      <td>57</td>\n",
       "      <td>-1</td>\n",
       "      <td>0</td>\n",
       "      <td>-1</td>\n",
       "      <td>0</td>\n",
       "      <td>0</td>\n",
       "      <td>0</td>\n",
       "      <td>8617.0</td>\n",
       "      <td>5670.0</td>\n",
       "      <td>35835.0</td>\n",
       "      <td>20940.0</td>\n",
       "      <td>19146.0</td>\n",
       "      <td>19131.0</td>\n",
       "      <td>0</td>\n",
       "      <td>59049.0</td>\n",
       "    </tr>\n",
       "  </tbody>\n",
       "</table>\n",
       "</div>"
      ],
      "text/plain": [
       "   ID  LIMIT_BAL  SEX  EDUCATION  MARRIAGE  AGE  PAY_0  PAY_2  PAY_3  PAY_4  \\\n",
       "0   1    20000.0    2          2         1   24      2      2     -1     -1   \n",
       "1   2   120000.0    2          2         2   26     -1      2      0      0   \n",
       "2   3    90000.0    2          2         2   34      0      0      0      0   \n",
       "3   4    50000.0    2          2         1   37      0      0      0      0   \n",
       "4   5    50000.0    1          2         1   57     -1      0     -1      0   \n",
       "\n",
       "   PAY_5  PAY_6  BILL_AMT1  BILL_AMT2  BILL_AMT3  BILL_AMT4  BILL_AMT5  \\\n",
       "0     -2     -2     3913.0     3102.0      689.0        0.0        0.0   \n",
       "1      0      2     2682.0     1725.0     2682.0     3272.0     3455.0   \n",
       "2      0      0    29239.0    14027.0    13559.0    14331.0    14948.0   \n",
       "3      0      0    46990.0    48233.0    49291.0    28314.0    28959.0   \n",
       "4      0      0     8617.0     5670.0    35835.0    20940.0    19146.0   \n",
       "\n",
       "   BILL_AMT6  default.payment.next.month  SUM_PAY  \n",
       "0        0.0                           1    689.0  \n",
       "1     3261.0                           1   5000.0  \n",
       "2    15549.0                           0  11018.0  \n",
       "3    29547.0                           0   8388.0  \n",
       "4    19131.0                           0  59049.0  "
      ]
     },
     "execution_count": 329,
     "metadata": {},
     "output_type": "execute_result"
    }
   ],
   "source": [
    "credit_card_data.head() # убедимся, что новая колонка добавилась, а старые удалились"
   ]
  },
  {
   "cell_type": "markdown",
   "id": "2186b216",
   "metadata": {},
   "source": [
    "Для проведения дальнейших исследований разделим полученный датасет на тренировочные и тестировочные данные.\n",
    "\n",
    "Возьмём данные по столбцам **LIMIT_BAL** (сумма предоставленного кредита) и **SUM_PAY** (сумма всех платежей) и попробуем определить пол плательщика (**SEX**): если значение равно \"1\", то это мужчина, если значение равно \"2\", то женщина"
   ]
  },
  {
   "cell_type": "code",
   "execution_count": 330,
   "id": "2ce69355",
   "metadata": {},
   "outputs": [
    {
     "name": "stdout",
     "output_type": "stream",
     "text": [
      "X_train1.shape: (200, 2)\n",
      "Y_train1.shape: (200,)\n",
      "X_test1.shape: (100, 2)\n",
      "Y_test1.shape: (100,)\n"
     ]
    }
   ],
   "source": [
    "# 2/3 данных испольуем в качестве тренировочных данных\n",
    "X_train1 = credit_card_data[['LIMIT_BAL', 'SUM_PAY']][:200].values # разбиваем датасет на тренировочные данные X (features)\n",
    "Y_train1 = credit_card_data['SEX'][:200] # и тренировочные результаты Y (labels)\n",
    "# 1/3 данных отдаём в тестировочные данные\n",
    "X_test1 = credit_card_data[['LIMIT_BAL', 'SUM_PAY']][200:].values\n",
    "Y_test1 = credit_card_data['SEX'][200:]\n",
    "\n",
    "print(\"X_train1.shape: {}\".format(X_train1.shape))\n",
    "print(\"Y_train1.shape: {}\".format(Y_train1.shape))\n",
    "print(\"X_test1.shape: {}\".format(X_test1.shape))\n",
    "print(\"Y_test1.shape: {}\".format(Y_test1.shape))"
   ]
  },
  {
   "cell_type": "markdown",
   "id": "e85a6f16",
   "metadata": {},
   "source": [
    "С помощью классификатора логистической регресии предсказываем данные (без регуляризации)"
   ]
  },
  {
   "cell_type": "code",
   "execution_count": 331,
   "id": "e3cacad3",
   "metadata": {},
   "outputs": [
    {
     "data": {
      "text/plain": [
       "LogisticRegression()"
      ]
     },
     "execution_count": 331,
     "metadata": {},
     "output_type": "execute_result"
    }
   ],
   "source": [
    "from sklearn.linear_model import LogisticRegression\n",
    "clf1 = LogisticRegression()\n",
    "\n",
    "clf1.fit(X_train1, Y_train1) # обучаем модель"
   ]
  },
  {
   "cell_type": "code",
   "execution_count": 332,
   "id": "2edf1dae",
   "metadata": {},
   "outputs": [],
   "source": [
    "Y_pred1 = clf1.predict(X_test1) # делаем предсказание"
   ]
  },
  {
   "cell_type": "code",
   "execution_count": 333,
   "id": "45e5e29c",
   "metadata": {},
   "outputs": [
    {
     "data": {
      "text/plain": [
       "array([2, 1, 1, 2, 2, 1, 2, 2, 2, 2, 1, 2, 2, 1, 2, 2, 2, 2, 2, 2, 2, 2,\n",
       "       2, 2, 1, 1, 2, 1, 2, 2, 2, 1, 1, 2, 2, 1, 2, 2, 2, 2, 2, 2, 2, 2,\n",
       "       2, 1, 2, 2, 2, 2, 2, 1, 2, 1, 2, 2, 2, 1, 2, 2, 1, 1, 1, 2, 1, 2,\n",
       "       1, 2, 2, 2, 2, 2, 2, 2, 2, 1, 2, 2, 2, 2, 2, 1, 2, 2, 2, 1, 2, 2,\n",
       "       2, 2, 1, 2, 2, 1, 2, 2, 2, 2, 2, 2])"
      ]
     },
     "execution_count": 333,
     "metadata": {},
     "output_type": "execute_result"
    }
   ],
   "source": [
    "Y_pred1"
   ]
  },
  {
   "cell_type": "markdown",
   "id": "71147e3c",
   "metadata": {},
   "source": [
    "Для оценки точности регрессионной модели используем метод **accuracy_score** из библиотеки **sklearn**"
   ]
  },
  {
   "cell_type": "code",
   "execution_count": 345,
   "id": "55b8cbed",
   "metadata": {},
   "outputs": [
    {
     "name": "stdout",
     "output_type": "stream",
     "text": [
      "train accuracy: 0.54\n",
      "test accuracy: 0.66\n"
     ]
    }
   ],
   "source": [
    "from sklearn.metrics import accuracy_score\n",
    "\n",
    "train_accuracy1 = accuracy_score(Y_train1, clf1.predict(X_train1))\n",
    "print(f'train accuracy:', train_accuracy1)\n",
    "\n",
    "test_accuracy1 = accuracy_score(Y_test1, clf1.predict(X_test1))\n",
    "print(f'test accuracy:', test_accuracy1)\n",
    "\n",
    "#print(\"train accuracy: {}\".format(accuracy_score(Y_train1, clf1.predict(X_train1)))) # Y_train (реальные выходные данные labels) и clf.predict(X_train) (предсказанные данные) \n",
    "#print(\"test accuracy: {}\".format(accuracy_score(Y_test1, clf1.predict(X_test1))))"
   ]
  },
  {
   "cell_type": "code",
   "execution_count": 346,
   "id": "a39503d7",
   "metadata": {},
   "outputs": [
    {
     "name": "stdout",
     "output_type": "stream",
     "text": [
      "train precision: 0.54\n",
      "test precision: 0.56\n"
     ]
    }
   ],
   "source": [
    "from sklearn.metrics import precision_score\n",
    "\n",
    "train_precision1 = precision_score(Y_train1, clf1.predict(X_train1))\n",
    "print(f'train precision:', train_accuracy1)\n",
    "\n",
    "test_precision1 = precision_score(Y_test1, clf1.predict(X_test1))\n",
    "print(f'test precision:', test_precision1)\n",
    "\n",
    "#print(\"train precision: {}\".format(precision_score(Y_train1, clf1.predict(X_train1))))\n",
    "#print(\"test precision: {}\".format(precision_score(Y_test1, clf1.predict(X_test1))))"
   ]
  },
  {
   "cell_type": "code",
   "execution_count": 347,
   "id": "dbc34845",
   "metadata": {},
   "outputs": [
    {
     "name": "stdout",
     "output_type": "stream",
     "text": [
      "train_recall: 0.2916666666666667\n",
      "test_recall: 0.3783783783783784\n"
     ]
    }
   ],
   "source": [
    "from sklearn.metrics import recall_score\n",
    "\n",
    "train_recall1 = recall_score(Y_train1, clf1.predict(X_train1))\n",
    "print(f'train_recall:', train_recall1)\n",
    "\n",
    "test_recall1 = recall_score(Y_test1, clf1.predict(X_test1))\n",
    "print(f'test_recall:', test_recall1)\n",
    "\n",
    "#print(\"train recall: {}\".format(recall_score(Y_train1, clf1.predict(X_train1))))\n",
    "#print(\"test recall: {}\".format(recall_score(Y_test1, clf1.predict(X_test1))))"
   ]
  },
  {
   "cell_type": "markdown",
   "id": "3fa343ce",
   "metadata": {},
   "source": [
    "Из результатов вычислений видно, что с тренировочными данными модель справилась с точностью 0.54, а с тестовыми - 0.66.\n",
    "\n",
    "Значение точности (**Precision**) для тренировочных данных составило 0.54, а для тестовых данных - 0.56.\n",
    "\n",
    "Значение охвата (**Recall**) для тренировочных данных данной модели составило 0.29, а для тестовых - 0.38.\n",
    "\n",
    "Теперь попробуем применить к нашей модели классификатор с регуляризацией. Для этой цели выберем SDG-классификатор, основанный на методе стохастического градиентного спуска"
   ]
  },
  {
   "cell_type": "code",
   "execution_count": 348,
   "id": "3ca36347",
   "metadata": {},
   "outputs": [
    {
     "name": "stdout",
     "output_type": "stream",
     "text": [
      "X_train2.shape: (200, 2)\n",
      "Y_train2.shape: (200,)\n",
      "X_test2.shape: (100, 2)\n",
      "Y_test2.shape: (100,)\n"
     ]
    }
   ],
   "source": [
    "# 2/3 данных испольуем в качестве тренировочных данных\n",
    "X_train2 = credit_card_data[['LIMIT_BAL', 'SUM_PAY']][:200].values # разбиваем датасет на тренировочные данные X (features)\n",
    "Y_train2 = credit_card_data['SEX'][:200] # и тренировочные результаты Y (labels)\n",
    "# 1/3 данных отдаём в тестировочные данные\n",
    "X_test2 = credit_card_data[['LIMIT_BAL', 'SUM_PAY']][200:].values\n",
    "Y_test2 = credit_card_data['SEX'][200:]\n",
    "\n",
    "print(\"X_train2.shape: {}\".format(X_train2.shape))\n",
    "print(\"Y_train2.shape: {}\".format(Y_train2.shape))\n",
    "print(\"X_test2.shape: {}\".format(X_test2.shape))\n",
    "print(\"Y_test2.shape: {}\".format(Y_test2.shape))"
   ]
  },
  {
   "cell_type": "code",
   "execution_count": 349,
   "id": "f7115cab",
   "metadata": {},
   "outputs": [],
   "source": [
    "from sklearn.linear_model import SGDClassifier # импортируем классификатор"
   ]
  },
  {
   "cell_type": "code",
   "execution_count": 350,
   "id": "62bf9400",
   "metadata": {},
   "outputs": [],
   "source": [
    "clf2 = SGDClassifier(verbose=4, max_iter=500) # устанавливаем значение в 500 итераций"
   ]
  },
  {
   "cell_type": "code",
   "execution_count": 351,
   "id": "9dc2c94b",
   "metadata": {},
   "outputs": [
    {
     "name": "stdout",
     "output_type": "stream",
     "text": [
      "-- Epoch 1\n",
      "Norm: 1133252.18, NNZs: 2, Bias: 45.704999, T: 200, Avg. loss: 87673362282.778824\n",
      "Total training time: 0.00 seconds.\n",
      "-- Epoch 2\n",
      "Norm: 2802023.94, NNZs: 2, Bias: -9.705950, T: 400, Avg. loss: 72058776266.164932\n",
      "Total training time: 0.00 seconds.\n",
      "-- Epoch 3\n",
      "Norm: 602826.46, NNZs: 2, Bias: 17.827723, T: 600, Avg. loss: 79101989778.295425\n",
      "Total training time: 0.00 seconds.\n",
      "-- Epoch 4\n",
      "Norm: 1746639.53, NNZs: 2, Bias: 58.009418, T: 800, Avg. loss: 67513853756.163635\n",
      "Total training time: 0.00 seconds.\n",
      "-- Epoch 5\n",
      "Norm: 2166075.40, NNZs: 2, Bias: 70.142841, T: 1000, Avg. loss: 46567955765.488846\n",
      "Total training time: 0.00 seconds.\n",
      "-- Epoch 6\n",
      "Norm: 900156.96, NNZs: 2, Bias: 99.546312, T: 1200, Avg. loss: 53428341302.049240\n",
      "Total training time: 0.00 seconds.\n",
      "-- Epoch 7\n",
      "Norm: 1801577.17, NNZs: 2, Bias: 117.170995, T: 1400, Avg. loss: 57444277895.837219\n",
      "Total training time: 0.00 seconds.\n",
      "-- Epoch 8\n",
      "Norm: 1382308.05, NNZs: 2, Bias: 101.871014, T: 1600, Avg. loss: 59162939780.255676\n",
      "Total training time: 0.00 seconds.\n",
      "-- Epoch 9\n",
      "Norm: 1611894.27, NNZs: 2, Bias: 120.792950, T: 1800, Avg. loss: 40674097430.267082\n",
      "Total training time: 0.00 seconds.\n",
      "-- Epoch 10\n",
      "Norm: 1262044.61, NNZs: 2, Bias: 89.279590, T: 2000, Avg. loss: 45727641831.333420\n",
      "Total training time: 0.00 seconds.\n",
      "-- Epoch 11\n",
      "Norm: 657930.67, NNZs: 2, Bias: 128.559829, T: 2200, Avg. loss: 42976922876.247780\n",
      "Total training time: 0.00 seconds.\n",
      "-- Epoch 12\n",
      "Norm: 753951.99, NNZs: 2, Bias: 131.568492, T: 2400, Avg. loss: 41628865589.394859\n",
      "Total training time: 0.00 seconds.\n",
      "-- Epoch 13\n",
      "Norm: 461260.14, NNZs: 2, Bias: 157.885881, T: 2600, Avg. loss: 34687452838.380959\n",
      "Total training time: 0.00 seconds.\n",
      "-- Epoch 14\n",
      "Norm: 528972.93, NNZs: 2, Bias: 136.648794, T: 2800, Avg. loss: 30585212430.032734\n",
      "Total training time: 0.00 seconds.\n",
      "-- Epoch 15\n",
      "Norm: 875897.31, NNZs: 2, Bias: 129.645332, T: 3000, Avg. loss: 34715459395.385117\n",
      "Total training time: 0.00 seconds.\n",
      "-- Epoch 16\n",
      "Norm: 485957.37, NNZs: 2, Bias: 115.599677, T: 3200, Avg. loss: 33622378429.962162\n",
      "Total training time: 0.00 seconds.\n",
      "-- Epoch 17\n",
      "Norm: 1268987.86, NNZs: 2, Bias: 134.108835, T: 3400, Avg. loss: 30931236639.186501\n",
      "Total training time: 0.00 seconds.\n",
      "-- Epoch 18\n",
      "Norm: 589995.34, NNZs: 2, Bias: 169.334184, T: 3600, Avg. loss: 23985462481.108387\n",
      "Total training time: 0.00 seconds.\n",
      "-- Epoch 19\n",
      "Norm: 414725.09, NNZs: 2, Bias: 175.402963, T: 3800, Avg. loss: 21713528799.884289\n",
      "Total training time: 0.01 seconds.\n",
      "-- Epoch 20\n",
      "Norm: 608919.86, NNZs: 2, Bias: 156.947584, T: 4000, Avg. loss: 23239345893.893578\n",
      "Total training time: 0.01 seconds.\n",
      "-- Epoch 21\n",
      "Norm: 910808.94, NNZs: 2, Bias: 150.978668, T: 4200, Avg. loss: 23584138548.511803\n",
      "Total training time: 0.01 seconds.\n",
      "-- Epoch 22\n",
      "Norm: 482816.21, NNZs: 2, Bias: 156.579046, T: 4400, Avg. loss: 20760405055.703346\n",
      "Total training time: 0.01 seconds.\n",
      "-- Epoch 23\n",
      "Norm: 289335.33, NNZs: 2, Bias: 149.238156, T: 4600, Avg. loss: 22946415042.725922\n",
      "Total training time: 0.01 seconds.\n",
      "-- Epoch 24\n",
      "Norm: 448434.65, NNZs: 2, Bias: 142.218886, T: 4800, Avg. loss: 24710747776.252506\n",
      "Total training time: 0.01 seconds.\n",
      "-- Epoch 25\n",
      "Norm: 286654.80, NNZs: 2, Bias: 133.867426, T: 5000, Avg. loss: 20679109468.090599\n",
      "Total training time: 0.01 seconds.\n",
      "-- Epoch 26\n",
      "Norm: 89753.39, NNZs: 2, Bias: 125.671280, T: 5200, Avg. loss: 21095992892.245609\n",
      "Total training time: 0.01 seconds.\n",
      "-- Epoch 27\n",
      "Norm: 404363.66, NNZs: 2, Bias: 116.257212, T: 5400, Avg. loss: 19418755150.309647\n",
      "Total training time: 0.01 seconds.\n",
      "-- Epoch 28\n",
      "Norm: 874733.64, NNZs: 2, Bias: 117.768944, T: 5600, Avg. loss: 14695621801.639158\n",
      "Total training time: 0.01 seconds.\n",
      "-- Epoch 29\n",
      "Norm: 454185.25, NNZs: 2, Bias: 99.740908, T: 5800, Avg. loss: 19742957534.512779\n",
      "Total training time: 0.01 seconds.\n",
      "-- Epoch 30\n",
      "Norm: 213134.46, NNZs: 2, Bias: 98.537402, T: 6000, Avg. loss: 20394121764.211716\n",
      "Total training time: 0.01 seconds.\n",
      "-- Epoch 31\n",
      "Norm: 468886.44, NNZs: 2, Bias: 85.833573, T: 6200, Avg. loss: 18255294017.494987\n",
      "Total training time: 0.01 seconds.\n",
      "-- Epoch 32\n",
      "Norm: 121670.04, NNZs: 2, Bias: 77.621000, T: 6400, Avg. loss: 16746558951.926140\n",
      "Total training time: 0.01 seconds.\n",
      "-- Epoch 33\n",
      "Norm: 590563.83, NNZs: 2, Bias: 69.615621, T: 6600, Avg. loss: 13800304807.956642\n",
      "Total training time: 0.01 seconds.\n",
      "-- Epoch 34\n",
      "Norm: 329279.82, NNZs: 2, Bias: 59.294787, T: 6800, Avg. loss: 15087761953.424372\n",
      "Total training time: 0.01 seconds.\n",
      "-- Epoch 35\n",
      "Norm: 592148.55, NNZs: 2, Bias: 50.481239, T: 7000, Avg. loss: 15332471040.885466\n",
      "Total training time: 0.01 seconds.\n",
      "-- Epoch 36\n",
      "Norm: 501244.82, NNZs: 2, Bias: 52.906178, T: 7200, Avg. loss: 17160117676.677753\n",
      "Total training time: 0.01 seconds.\n",
      "-- Epoch 37\n",
      "Norm: 84832.99, NNZs: 2, Bias: 46.905704, T: 7400, Avg. loss: 14895965709.838108\n",
      "Total training time: 0.01 seconds.\n",
      "-- Epoch 38\n",
      "Norm: 281218.87, NNZs: 2, Bias: 39.710492, T: 7600, Avg. loss: 15114663790.709333\n",
      "Total training time: 0.01 seconds.\n",
      "Convergence after 38 epochs took 0.01 seconds\n"
     ]
    },
    {
     "data": {
      "text/plain": [
       "SGDClassifier(max_iter=500, verbose=4)"
      ]
     },
     "execution_count": 351,
     "metadata": {},
     "output_type": "execute_result"
    }
   ],
   "source": [
    "clf2.fit(X_train2, Y_train2) # обучаем модель на тренировочных данных"
   ]
  },
  {
   "cell_type": "code",
   "execution_count": 352,
   "id": "a9ed1563",
   "metadata": {},
   "outputs": [
    {
     "name": "stdout",
     "output_type": "stream",
     "text": [
      "train accuracy: 0.58\n",
      "test accuracy: 0.57\n"
     ]
    }
   ],
   "source": [
    "from sklearn.metrics import accuracy_score # считаем тончость с помощью метода accuracy_score\n",
    "\n",
    "train_accuracy2 = accuracy_score(Y_train2, clf2.predict(X_train2))\n",
    "print(f'train accuracy:', train_accuracy2)\n",
    "\n",
    "test_accuracy2 = accuracy_score(Y_test2, clf2.predict(X_test2))\n",
    "print(f'test accuracy:', test_accuracy2)\n",
    "\n",
    "#print(\"train accuracy: {}\".format(accuracy_score(Y_train2, clf2.predict(X_train2)))) # Y_train (реальные выходные данные labels) и clf.predict(X_train) (предсказанные данные) \n",
    "#print(\"test accuracy: {}\".format(accuracy_score(Y_test2, clf2.predict(X_test2))))"
   ]
  },
  {
   "cell_type": "markdown",
   "id": "847cf59b",
   "metadata": {},
   "source": [
    "Из результатов вычислений видно, что с тренировочными данными классификатор с регуляризацией справился с точностью 0.58, а с тестовыми - 0.57"
   ]
  },
  {
   "cell_type": "code",
   "execution_count": 355,
   "id": "66d0c5fd",
   "metadata": {},
   "outputs": [
    {
     "name": "stdout",
     "output_type": "stream",
     "text": [
      "train precision: 0.5555555555555556\n",
      "test precision: 0.44642857142857145\n"
     ]
    }
   ],
   "source": [
    "from sklearn.metrics import precision_score\n",
    "\n",
    "train_precision2 = precision_score(Y_train2, clf2.predict(X_train2))\n",
    "print(f'train precision:', train_precision2)\n",
    "\n",
    "test_precision2 = precision_score(Y_test2, clf2.predict(X_test2))\n",
    "print(f'test precision:', test_precision2)\n",
    "\n",
    "#print(\"train precision: {}\".format(precision_score(Y_train2, clf2.predict(X_train2))))\n",
    "#print(\"test precision: {}\".format(precision_score(Y_test2, clf2.predict(X_test2))))"
   ]
  },
  {
   "cell_type": "markdown",
   "id": "be97baa8",
   "metadata": {},
   "source": [
    "Из полученных данных видно, что у модели с тренировочными данными точность (**Precision**) равна 0.56, а с тестовыми - 0.45"
   ]
  },
  {
   "cell_type": "code",
   "execution_count": 354,
   "id": "d68640c9",
   "metadata": {},
   "outputs": [
    {
     "name": "stdout",
     "output_type": "stream",
     "text": [
      "train recall: 0.625\n",
      "test recall: 0.6756756756756757\n"
     ]
    }
   ],
   "source": [
    "from sklearn.metrics import recall_score\n",
    "\n",
    "train_recall2 = recall_score(Y_train2, clf2.predict(X_train2))\n",
    "print(f'train recall:', train_recall2)\n",
    "\n",
    "test_recall2 = recall_score(Y_test2, clf2.predict(X_test2))\n",
    "print(f'test recall:', test_recall2)\n",
    "\n",
    "#print(\"train recall: {}\".format(recall_score(Y_train2, clf2.predict(X_train2))))\n",
    "#print(\"test recall: {}\".format(recall_score(Y_test2, clf2.predict(X_test2))))"
   ]
  },
  {
   "cell_type": "markdown",
   "id": "20aa13a1",
   "metadata": {},
   "source": [
    "Охват (**Recall**) в данной модели с тренировочными данными получился равен единиице 0.63, а с тестовыми - 0.68.\n",
    "\n",
    "Сравним полученные результаты:"
   ]
  },
  {
   "cell_type": "code",
   "execution_count": 360,
   "id": "2bd158a8",
   "metadata": {},
   "outputs": [
    {
     "data": {
      "text/html": [
       "<div>\n",
       "<style scoped>\n",
       "    .dataframe tbody tr th:only-of-type {\n",
       "        vertical-align: middle;\n",
       "    }\n",
       "\n",
       "    .dataframe tbody tr th {\n",
       "        vertical-align: top;\n",
       "    }\n",
       "\n",
       "    .dataframe thead th {\n",
       "        text-align: right;\n",
       "    }\n",
       "</style>\n",
       "<table border=\"1\" class=\"dataframe\">\n",
       "  <thead>\n",
       "    <tr style=\"text-align: right;\">\n",
       "      <th></th>\n",
       "      <th>Model</th>\n",
       "      <th>train accuracy</th>\n",
       "      <th>test accuracy</th>\n",
       "      <th>train precision</th>\n",
       "      <th>test precision</th>\n",
       "      <th>train recall</th>\n",
       "      <th>test recall</th>\n",
       "    </tr>\n",
       "  </thead>\n",
       "  <tbody>\n",
       "    <tr>\n",
       "      <th>0</th>\n",
       "      <td>Первая</td>\n",
       "      <td>0.54</td>\n",
       "      <td>0.66</td>\n",
       "      <td>0.538462</td>\n",
       "      <td>0.560000</td>\n",
       "      <td>0.291667</td>\n",
       "      <td>0.378378</td>\n",
       "    </tr>\n",
       "    <tr>\n",
       "      <th>1</th>\n",
       "      <td>Вторая</td>\n",
       "      <td>0.58</td>\n",
       "      <td>0.57</td>\n",
       "      <td>0.555556</td>\n",
       "      <td>0.446429</td>\n",
       "      <td>0.625000</td>\n",
       "      <td>0.675676</td>\n",
       "    </tr>\n",
       "  </tbody>\n",
       "</table>\n",
       "</div>"
      ],
      "text/plain": [
       "    Model  train accuracy  test accuracy  train precision  test precision  \\\n",
       "0  Первая            0.54           0.66         0.538462        0.560000   \n",
       "1  Вторая            0.58           0.57         0.555556        0.446429   \n",
       "\n",
       "   train recall  test recall  \n",
       "0      0.291667     0.378378  \n",
       "1      0.625000     0.675676  "
      ]
     },
     "execution_count": 360,
     "metadata": {},
     "output_type": "execute_result"
    }
   ],
   "source": [
    "df = pd.DataFrame({'Model': ['Первая', 'Вторая'], 'train accuracy': [train_accuracy1, train_accuracy2], 'test accuracy': [test_accuracy1, test_accuracy2],\n",
    "                  'train precision': [train_precision1, train_precision2], 'test precision': [test_precision1, test_precision2],\n",
    "                  'train recall': [train_recall1, train_recall2], 'test recall': [test_recall1, test_recall2]})\n",
    "df"
   ]
  },
  {
   "cell_type": "markdown",
   "id": "78f14d00",
   "metadata": {},
   "source": [
    "# Выводы:\n",
    "\n",
    "1. Значение точности (**accuracy**) для тренировочных данных получилось больше во **второй** модели (с регуляризацией), но для тестировочных данных ближе к \"1\" находится значение **первой** модели (без регуляризации).\n",
    "2. Значение точности (**precision**) для тренировочных данных оказалось почти одинаковым для обеих моделей, а для тестировочных данных лучше результат оказался у **первой** модели (без регуляризации).\n",
    "3. Самый большой разброс в данных получился в результатах охвата (**recall**), в которых **вторая** модель (с регуляризацией) в обоих случаях (и в тренировочных, и в тестировочных данных) дала более высокий результат."
   ]
  },
  {
   "cell_type": "code",
   "execution_count": null,
   "id": "c9652b54",
   "metadata": {},
   "outputs": [],
   "source": []
  }
 ],
 "metadata": {
  "kernelspec": {
   "display_name": "Python 3 (ipykernel)",
   "language": "python",
   "name": "python3"
  },
  "language_info": {
   "codemirror_mode": {
    "name": "ipython",
    "version": 3
   },
   "file_extension": ".py",
   "mimetype": "text/x-python",
   "name": "python",
   "nbconvert_exporter": "python",
   "pygments_lexer": "ipython3",
   "version": "3.9.12"
  }
 },
 "nbformat": 4,
 "nbformat_minor": 5
}
